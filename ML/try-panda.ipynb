{
 "cells": [
  {
   "cell_type": "code",
   "execution_count": 1,
   "metadata": {},
   "outputs": [],
   "source": [
    "import pandas as pd"
   ]
  },
  {
   "cell_type": "code",
   "execution_count": 2,
   "metadata": {},
   "outputs": [],
   "source": [
    "## series data types\n",
    "# series is 1 dimensional\n",
    "cars = pd.Series([\"Toyota\",\"Mvm\",\"Bmw\"])\n",
    "colors = pd.Series([\"Blue\",\"Red\",\"Yellow\"])"
   ]
  },
  {
   "cell_type": "code",
   "execution_count": 3,
   "metadata": {},
   "outputs": [
    {
     "data": {
      "text/html": [
       "<div>\n",
       "<style scoped>\n",
       "    .dataframe tbody tr th:only-of-type {\n",
       "        vertical-align: middle;\n",
       "    }\n",
       "\n",
       "    .dataframe tbody tr th {\n",
       "        vertical-align: top;\n",
       "    }\n",
       "\n",
       "    .dataframe thead th {\n",
       "        text-align: right;\n",
       "    }\n",
       "</style>\n",
       "<table border=\"1\" class=\"dataframe\">\n",
       "  <thead>\n",
       "    <tr style=\"text-align: right;\">\n",
       "      <th></th>\n",
       "      <th>Car</th>\n",
       "      <th>Color</th>\n",
       "    </tr>\n",
       "  </thead>\n",
       "  <tbody>\n",
       "    <tr>\n",
       "      <th>0</th>\n",
       "      <td>Toyota</td>\n",
       "      <td>Blue</td>\n",
       "    </tr>\n",
       "    <tr>\n",
       "      <th>1</th>\n",
       "      <td>Mvm</td>\n",
       "      <td>Red</td>\n",
       "    </tr>\n",
       "    <tr>\n",
       "      <th>2</th>\n",
       "      <td>Bmw</td>\n",
       "      <td>Yellow</td>\n",
       "    </tr>\n",
       "  </tbody>\n",
       "</table>\n",
       "</div>"
      ],
      "text/plain": [
       "      Car   Color\n",
       "0  Toyota    Blue\n",
       "1     Mvm     Red\n",
       "2     Bmw  Yellow"
      ]
     },
     "execution_count": 3,
     "metadata": {},
     "output_type": "execute_result"
    }
   ],
   "source": [
    "# Data Frame data types\n",
    "# its 2 dimensional\n",
    "# we can use series for data frames\n",
    "company_cars = pd.DataFrame({\"Car\": cars, \"Color\": colors})\n",
    "company_cars"
   ]
  },
  {
   "cell_type": "code",
   "execution_count": 4,
   "metadata": {},
   "outputs": [],
   "source": [
    "# read from csv\n",
    "cars_set = pd.read_csv('car.csv', encoding='unicode_escape')"
   ]
  },
  {
   "cell_type": "code",
   "execution_count": 5,
   "metadata": {},
   "outputs": [],
   "source": [
    "# Export Data Frame\n",
    "cars_set.to_csv(\"cars-exported.csv\")"
   ]
  },
  {
   "cell_type": "markdown",
   "metadata": {},
   "source": [
    "## Describe data"
   ]
  },
  {
   "cell_type": "code",
   "execution_count": 6,
   "metadata": {},
   "outputs": [
    {
     "data": {
      "text/plain": [
       "Brand                object\n",
       "Condition            object\n",
       "Fuel                 object\n",
       "KMs Driven          float64\n",
       "Model                object\n",
       "Price                 int64\n",
       "Registered City      object\n",
       "Transaction Type     object\n",
       "Year                float64\n",
       "dtype: object"
      ]
     },
     "execution_count": 6,
     "metadata": {},
     "output_type": "execute_result"
    }
   ],
   "source": [
    "# attributes\n",
    "cars_set.dtypes"
   ]
  },
  {
   "cell_type": "code",
   "execution_count": 7,
   "metadata": {},
   "outputs": [
    {
     "data": {
      "text/plain": [
       "Index(['Brand', 'Condition', 'Fuel', 'KMs Driven', 'Model', 'Price',\n",
       "       'Registered City', 'Transaction Type', 'Year'],\n",
       "      dtype='object')"
      ]
     },
     "execution_count": 7,
     "metadata": {},
     "output_type": "execute_result"
    }
   ],
   "source": [
    "cars_set.columns"
   ]
  },
  {
   "cell_type": "code",
   "execution_count": 8,
   "metadata": {},
   "outputs": [
    {
     "data": {
      "text/plain": [
       "RangeIndex(start=0, stop=24973, step=1)"
      ]
     },
     "execution_count": 8,
     "metadata": {},
     "output_type": "execute_result"
    }
   ],
   "source": [
    "cars_set.index"
   ]
  },
  {
   "cell_type": "code",
   "execution_count": 9,
   "metadata": {},
   "outputs": [
    {
     "name": "stdout",
     "output_type": "stream",
     "text": [
      "<class 'pandas.core.frame.DataFrame'>\n",
      "RangeIndex: 24973 entries, 0 to 24972\n",
      "Data columns (total 9 columns):\n",
      " #   Column            Non-Null Count  Dtype  \n",
      "---  ------            --------------  -----  \n",
      " 0   Brand             22836 non-null  object \n",
      " 1   Condition         22837 non-null  object \n",
      " 2   Fuel              22528 non-null  object \n",
      " 3   KMs Driven        22687 non-null  float64\n",
      " 4   Model             22525 non-null  object \n",
      " 5   Price             24973 non-null  int64  \n",
      " 6   Registered City   20337 non-null  object \n",
      " 7   Transaction Type  22528 non-null  object \n",
      " 8   Year              22689 non-null  float64\n",
      "dtypes: float64(2), int64(1), object(6)\n",
      "memory usage: 1.7+ MB\n"
     ]
    }
   ],
   "source": [
    "cars_set.info()"
   ]
  },
  {
   "cell_type": "code",
   "execution_count": 10,
   "metadata": {},
   "outputs": [
    {
     "data": {
      "text/html": [
       "<div>\n",
       "<style scoped>\n",
       "    .dataframe tbody tr th:only-of-type {\n",
       "        vertical-align: middle;\n",
       "    }\n",
       "\n",
       "    .dataframe tbody tr th {\n",
       "        vertical-align: top;\n",
       "    }\n",
       "\n",
       "    .dataframe thead th {\n",
       "        text-align: right;\n",
       "    }\n",
       "</style>\n",
       "<table border=\"1\" class=\"dataframe\">\n",
       "  <thead>\n",
       "    <tr style=\"text-align: right;\">\n",
       "      <th></th>\n",
       "      <th>KMs Driven</th>\n",
       "      <th>Price</th>\n",
       "      <th>Year</th>\n",
       "    </tr>\n",
       "  </thead>\n",
       "  <tbody>\n",
       "    <tr>\n",
       "      <th>count</th>\n",
       "      <td>2.268700e+04</td>\n",
       "      <td>2.497300e+04</td>\n",
       "      <td>22689.000000</td>\n",
       "    </tr>\n",
       "    <tr>\n",
       "      <th>mean</th>\n",
       "      <td>1.278112e+05</td>\n",
       "      <td>9.128953e+05</td>\n",
       "      <td>2005.901626</td>\n",
       "    </tr>\n",
       "    <tr>\n",
       "      <th>std</th>\n",
       "      <td>5.996726e+05</td>\n",
       "      <td>1.537134e+06</td>\n",
       "      <td>9.563804</td>\n",
       "    </tr>\n",
       "    <tr>\n",
       "      <th>min</th>\n",
       "      <td>1.000000e+00</td>\n",
       "      <td>5.000000e+04</td>\n",
       "      <td>1915.000000</td>\n",
       "    </tr>\n",
       "    <tr>\n",
       "      <th>25%</th>\n",
       "      <td>1.600000e+04</td>\n",
       "      <td>3.800000e+05</td>\n",
       "      <td>2002.000000</td>\n",
       "    </tr>\n",
       "    <tr>\n",
       "      <th>50%</th>\n",
       "      <td>6.651000e+04</td>\n",
       "      <td>6.500000e+05</td>\n",
       "      <td>2008.000000</td>\n",
       "    </tr>\n",
       "    <tr>\n",
       "      <th>75%</th>\n",
       "      <td>1.000000e+05</td>\n",
       "      <td>1.145000e+06</td>\n",
       "      <td>2013.000000</td>\n",
       "    </tr>\n",
       "    <tr>\n",
       "      <th>max</th>\n",
       "      <td>1.000000e+07</td>\n",
       "      <td>8.765432e+07</td>\n",
       "      <td>2020.000000</td>\n",
       "    </tr>\n",
       "  </tbody>\n",
       "</table>\n",
       "</div>"
      ],
      "text/plain": [
       "         KMs Driven         Price          Year\n",
       "count  2.268700e+04  2.497300e+04  22689.000000\n",
       "mean   1.278112e+05  9.128953e+05   2005.901626\n",
       "std    5.996726e+05  1.537134e+06      9.563804\n",
       "min    1.000000e+00  5.000000e+04   1915.000000\n",
       "25%    1.600000e+04  3.800000e+05   2002.000000\n",
       "50%    6.651000e+04  6.500000e+05   2008.000000\n",
       "75%    1.000000e+05  1.145000e+06   2013.000000\n",
       "max    1.000000e+07  8.765432e+07   2020.000000"
      ]
     },
     "execution_count": 10,
     "metadata": {},
     "output_type": "execute_result"
    }
   ],
   "source": [
    "cars_set.describe()"
   ]
  },
  {
   "cell_type": "code",
   "execution_count": 11,
   "metadata": {},
   "outputs": [
    {
     "data": {
      "text/plain": [
       "KMs Driven    127811.162825\n",
       "Price         912895.282265\n",
       "Year            2005.901626\n",
       "dtype: float64"
      ]
     },
     "execution_count": 11,
     "metadata": {},
     "output_type": "execute_result"
    }
   ],
   "source": [
    "cars_set.mean()"
   ]
  },
  {
   "cell_type": "code",
   "execution_count": 12,
   "metadata": {},
   "outputs": [
    {
     "data": {
      "text/plain": [
       "22797733884"
      ]
     },
     "execution_count": 12,
     "metadata": {},
     "output_type": "execute_result"
    }
   ],
   "source": [
    "cars_set[\"Price\"].sum()"
   ]
  },
  {
   "cell_type": "markdown",
   "metadata": {},
   "source": [
    "## Viewing and selecting data"
   ]
  },
  {
   "cell_type": "code",
   "execution_count": 13,
   "metadata": {},
   "outputs": [
    {
     "data": {
      "text/html": [
       "<div>\n",
       "<style scoped>\n",
       "    .dataframe tbody tr th:only-of-type {\n",
       "        vertical-align: middle;\n",
       "    }\n",
       "\n",
       "    .dataframe tbody tr th {\n",
       "        vertical-align: top;\n",
       "    }\n",
       "\n",
       "    .dataframe thead th {\n",
       "        text-align: right;\n",
       "    }\n",
       "</style>\n",
       "<table border=\"1\" class=\"dataframe\">\n",
       "  <thead>\n",
       "    <tr style=\"text-align: right;\">\n",
       "      <th></th>\n",
       "      <th>Brand</th>\n",
       "      <th>Condition</th>\n",
       "      <th>Fuel</th>\n",
       "      <th>KMs Driven</th>\n",
       "      <th>Model</th>\n",
       "      <th>Price</th>\n",
       "      <th>Registered City</th>\n",
       "      <th>Transaction Type</th>\n",
       "      <th>Year</th>\n",
       "    </tr>\n",
       "  </thead>\n",
       "  <tbody>\n",
       "    <tr>\n",
       "      <th>0</th>\n",
       "      <td>Toyota</td>\n",
       "      <td>Used</td>\n",
       "      <td>Diesel</td>\n",
       "      <td>1.0</td>\n",
       "      <td>Prado</td>\n",
       "      <td>2100000</td>\n",
       "      <td>Karachi</td>\n",
       "      <td>Cash</td>\n",
       "      <td>1997.0</td>\n",
       "    </tr>\n",
       "    <tr>\n",
       "      <th>1</th>\n",
       "      <td>Suzuki</td>\n",
       "      <td>Used</td>\n",
       "      <td>Petrol</td>\n",
       "      <td>100000.0</td>\n",
       "      <td>Bolan</td>\n",
       "      <td>380000</td>\n",
       "      <td>Karachi</td>\n",
       "      <td>Cash</td>\n",
       "      <td>2006.0</td>\n",
       "    </tr>\n",
       "    <tr>\n",
       "      <th>2</th>\n",
       "      <td>Suzuki</td>\n",
       "      <td>Used</td>\n",
       "      <td>CNG</td>\n",
       "      <td>12345.0</td>\n",
       "      <td>Bolan</td>\n",
       "      <td>340000</td>\n",
       "      <td>Karachi</td>\n",
       "      <td>Cash</td>\n",
       "      <td>1998.0</td>\n",
       "    </tr>\n",
       "    <tr>\n",
       "      <th>3</th>\n",
       "      <td>Suzuki</td>\n",
       "      <td>Used</td>\n",
       "      <td>Petrol</td>\n",
       "      <td>94000.0</td>\n",
       "      <td>Alto</td>\n",
       "      <td>535000</td>\n",
       "      <td>Karachi</td>\n",
       "      <td>Cash</td>\n",
       "      <td>2010.0</td>\n",
       "    </tr>\n",
       "    <tr>\n",
       "      <th>4</th>\n",
       "      <td>Toyota</td>\n",
       "      <td>Used</td>\n",
       "      <td>Petrol</td>\n",
       "      <td>100000.0</td>\n",
       "      <td>Corolla XLI</td>\n",
       "      <td>1430000</td>\n",
       "      <td>Karachi</td>\n",
       "      <td>Cash</td>\n",
       "      <td>2013.0</td>\n",
       "    </tr>\n",
       "  </tbody>\n",
       "</table>\n",
       "</div>"
      ],
      "text/plain": [
       "    Brand Condition    Fuel  KMs Driven        Model    Price Registered City  \\\n",
       "0  Toyota      Used  Diesel         1.0        Prado  2100000         Karachi   \n",
       "1  Suzuki      Used  Petrol    100000.0        Bolan   380000         Karachi   \n",
       "2  Suzuki      Used     CNG     12345.0        Bolan   340000         Karachi   \n",
       "3  Suzuki      Used  Petrol     94000.0         Alto   535000         Karachi   \n",
       "4  Toyota      Used  Petrol    100000.0  Corolla XLI  1430000         Karachi   \n",
       "\n",
       "  Transaction Type    Year  \n",
       "0             Cash  1997.0  \n",
       "1             Cash  2006.0  \n",
       "2             Cash  1998.0  \n",
       "3             Cash  2010.0  \n",
       "4             Cash  2013.0  "
      ]
     },
     "execution_count": 13,
     "metadata": {},
     "output_type": "execute_result"
    }
   ],
   "source": [
    "cars_set.head()"
   ]
  },
  {
   "cell_type": "code",
   "execution_count": 14,
   "metadata": {},
   "outputs": [
    {
     "data": {
      "text/html": [
       "<div>\n",
       "<style scoped>\n",
       "    .dataframe tbody tr th:only-of-type {\n",
       "        vertical-align: middle;\n",
       "    }\n",
       "\n",
       "    .dataframe tbody tr th {\n",
       "        vertical-align: top;\n",
       "    }\n",
       "\n",
       "    .dataframe thead th {\n",
       "        text-align: right;\n",
       "    }\n",
       "</style>\n",
       "<table border=\"1\" class=\"dataframe\">\n",
       "  <thead>\n",
       "    <tr style=\"text-align: right;\">\n",
       "      <th></th>\n",
       "      <th>Brand</th>\n",
       "      <th>Condition</th>\n",
       "      <th>Fuel</th>\n",
       "      <th>KMs Driven</th>\n",
       "      <th>Model</th>\n",
       "      <th>Price</th>\n",
       "      <th>Registered City</th>\n",
       "      <th>Transaction Type</th>\n",
       "      <th>Year</th>\n",
       "    </tr>\n",
       "  </thead>\n",
       "  <tbody>\n",
       "    <tr>\n",
       "      <th>0</th>\n",
       "      <td>Toyota</td>\n",
       "      <td>Used</td>\n",
       "      <td>Diesel</td>\n",
       "      <td>1.0</td>\n",
       "      <td>Prado</td>\n",
       "      <td>2100000</td>\n",
       "      <td>Karachi</td>\n",
       "      <td>Cash</td>\n",
       "      <td>1997.0</td>\n",
       "    </tr>\n",
       "    <tr>\n",
       "      <th>1</th>\n",
       "      <td>Suzuki</td>\n",
       "      <td>Used</td>\n",
       "      <td>Petrol</td>\n",
       "      <td>100000.0</td>\n",
       "      <td>Bolan</td>\n",
       "      <td>380000</td>\n",
       "      <td>Karachi</td>\n",
       "      <td>Cash</td>\n",
       "      <td>2006.0</td>\n",
       "    </tr>\n",
       "    <tr>\n",
       "      <th>2</th>\n",
       "      <td>Suzuki</td>\n",
       "      <td>Used</td>\n",
       "      <td>CNG</td>\n",
       "      <td>12345.0</td>\n",
       "      <td>Bolan</td>\n",
       "      <td>340000</td>\n",
       "      <td>Karachi</td>\n",
       "      <td>Cash</td>\n",
       "      <td>1998.0</td>\n",
       "    </tr>\n",
       "    <tr>\n",
       "      <th>3</th>\n",
       "      <td>Suzuki</td>\n",
       "      <td>Used</td>\n",
       "      <td>Petrol</td>\n",
       "      <td>94000.0</td>\n",
       "      <td>Alto</td>\n",
       "      <td>535000</td>\n",
       "      <td>Karachi</td>\n",
       "      <td>Cash</td>\n",
       "      <td>2010.0</td>\n",
       "    </tr>\n",
       "    <tr>\n",
       "      <th>4</th>\n",
       "      <td>Toyota</td>\n",
       "      <td>Used</td>\n",
       "      <td>Petrol</td>\n",
       "      <td>100000.0</td>\n",
       "      <td>Corolla XLI</td>\n",
       "      <td>1430000</td>\n",
       "      <td>Karachi</td>\n",
       "      <td>Cash</td>\n",
       "      <td>2013.0</td>\n",
       "    </tr>\n",
       "    <tr>\n",
       "      <th>5</th>\n",
       "      <td>Toyota</td>\n",
       "      <td>Used</td>\n",
       "      <td>Petrol</td>\n",
       "      <td>80000.0</td>\n",
       "      <td>Corrolla Altis</td>\n",
       "      <td>1620000</td>\n",
       "      <td>Karachi</td>\n",
       "      <td>Cash</td>\n",
       "      <td>2012.0</td>\n",
       "    </tr>\n",
       "    <tr>\n",
       "      <th>6</th>\n",
       "      <td>Suzuki</td>\n",
       "      <td>New</td>\n",
       "      <td>CNG</td>\n",
       "      <td>65000.0</td>\n",
       "      <td>Cultus VXL</td>\n",
       "      <td>450000</td>\n",
       "      <td>Karachi</td>\n",
       "      <td>Cash</td>\n",
       "      <td>2006.0</td>\n",
       "    </tr>\n",
       "    <tr>\n",
       "      <th>7</th>\n",
       "      <td>Toyota</td>\n",
       "      <td>New</td>\n",
       "      <td>Petrol</td>\n",
       "      <td>10241.0</td>\n",
       "      <td>Corrolla Altis</td>\n",
       "      <td>2900000</td>\n",
       "      <td>Karachi</td>\n",
       "      <td>Cash</td>\n",
       "      <td>2017.0</td>\n",
       "    </tr>\n",
       "  </tbody>\n",
       "</table>\n",
       "</div>"
      ],
      "text/plain": [
       "    Brand Condition    Fuel  KMs Driven           Model    Price  \\\n",
       "0  Toyota      Used  Diesel         1.0           Prado  2100000   \n",
       "1  Suzuki      Used  Petrol    100000.0           Bolan   380000   \n",
       "2  Suzuki      Used     CNG     12345.0           Bolan   340000   \n",
       "3  Suzuki      Used  Petrol     94000.0            Alto   535000   \n",
       "4  Toyota      Used  Petrol    100000.0     Corolla XLI  1430000   \n",
       "5  Toyota      Used  Petrol     80000.0  Corrolla Altis  1620000   \n",
       "6  Suzuki       New     CNG     65000.0      Cultus VXL   450000   \n",
       "7  Toyota       New  Petrol     10241.0  Corrolla Altis  2900000   \n",
       "\n",
       "  Registered City Transaction Type    Year  \n",
       "0         Karachi             Cash  1997.0  \n",
       "1         Karachi             Cash  2006.0  \n",
       "2         Karachi             Cash  1998.0  \n",
       "3         Karachi             Cash  2010.0  \n",
       "4         Karachi             Cash  2013.0  \n",
       "5         Karachi             Cash  2012.0  \n",
       "6         Karachi             Cash  2006.0  \n",
       "7         Karachi             Cash  2017.0  "
      ]
     },
     "execution_count": 14,
     "metadata": {},
     "output_type": "execute_result"
    }
   ],
   "source": [
    "cars_set.head(8)"
   ]
  },
  {
   "cell_type": "code",
   "execution_count": 15,
   "metadata": {},
   "outputs": [
    {
     "data": {
      "text/html": [
       "<div>\n",
       "<style scoped>\n",
       "    .dataframe tbody tr th:only-of-type {\n",
       "        vertical-align: middle;\n",
       "    }\n",
       "\n",
       "    .dataframe tbody tr th {\n",
       "        vertical-align: top;\n",
       "    }\n",
       "\n",
       "    .dataframe thead th {\n",
       "        text-align: right;\n",
       "    }\n",
       "</style>\n",
       "<table border=\"1\" class=\"dataframe\">\n",
       "  <thead>\n",
       "    <tr style=\"text-align: right;\">\n",
       "      <th></th>\n",
       "      <th>Brand</th>\n",
       "      <th>Condition</th>\n",
       "      <th>Fuel</th>\n",
       "      <th>KMs Driven</th>\n",
       "      <th>Model</th>\n",
       "      <th>Price</th>\n",
       "      <th>Registered City</th>\n",
       "      <th>Transaction Type</th>\n",
       "      <th>Year</th>\n",
       "    </tr>\n",
       "  </thead>\n",
       "  <tbody>\n",
       "    <tr>\n",
       "      <th>24968</th>\n",
       "      <td>Toyota</td>\n",
       "      <td>Used</td>\n",
       "      <td>CNG</td>\n",
       "      <td>200000.0</td>\n",
       "      <td>Corolla XE</td>\n",
       "      <td>1070000</td>\n",
       "      <td>Lahore</td>\n",
       "      <td>Cash</td>\n",
       "      <td>2001.0</td>\n",
       "    </tr>\n",
       "    <tr>\n",
       "      <th>24969</th>\n",
       "      <td>Daihatsu</td>\n",
       "      <td>New</td>\n",
       "      <td>Petrol</td>\n",
       "      <td>10000.0</td>\n",
       "      <td>Cuore</td>\n",
       "      <td>390000</td>\n",
       "      <td>Karachi</td>\n",
       "      <td>Cash</td>\n",
       "      <td>2004.0</td>\n",
       "    </tr>\n",
       "    <tr>\n",
       "      <th>24970</th>\n",
       "      <td>Other Brands</td>\n",
       "      <td>Used</td>\n",
       "      <td>CNG</td>\n",
       "      <td>158715.0</td>\n",
       "      <td>Other</td>\n",
       "      <td>180000</td>\n",
       "      <td>NaN</td>\n",
       "      <td>Cash</td>\n",
       "      <td>2000.0</td>\n",
       "    </tr>\n",
       "    <tr>\n",
       "      <th>24971</th>\n",
       "      <td>Suzuki</td>\n",
       "      <td>Used</td>\n",
       "      <td>Petrol</td>\n",
       "      <td>1.0</td>\n",
       "      <td>Alto</td>\n",
       "      <td>470000</td>\n",
       "      <td>Rawalpindi</td>\n",
       "      <td>Cash</td>\n",
       "      <td>2003.0</td>\n",
       "    </tr>\n",
       "    <tr>\n",
       "      <th>24972</th>\n",
       "      <td>Toyota</td>\n",
       "      <td>Used</td>\n",
       "      <td>Petrol</td>\n",
       "      <td>48500.0</td>\n",
       "      <td>Corolla GLI</td>\n",
       "      <td>2050000</td>\n",
       "      <td>Lahore</td>\n",
       "      <td>Cash</td>\n",
       "      <td>2017.0</td>\n",
       "    </tr>\n",
       "  </tbody>\n",
       "</table>\n",
       "</div>"
      ],
      "text/plain": [
       "              Brand Condition    Fuel  KMs Driven        Model    Price  \\\n",
       "24968        Toyota      Used     CNG    200000.0   Corolla XE  1070000   \n",
       "24969      Daihatsu       New  Petrol     10000.0        Cuore   390000   \n",
       "24970  Other Brands      Used     CNG    158715.0        Other   180000   \n",
       "24971        Suzuki      Used  Petrol         1.0         Alto   470000   \n",
       "24972        Toyota      Used  Petrol     48500.0  Corolla GLI  2050000   \n",
       "\n",
       "      Registered City Transaction Type    Year  \n",
       "24968          Lahore             Cash  2001.0  \n",
       "24969         Karachi             Cash  2004.0  \n",
       "24970             NaN             Cash  2000.0  \n",
       "24971      Rawalpindi             Cash  2003.0  \n",
       "24972          Lahore             Cash  2017.0  "
      ]
     },
     "execution_count": 15,
     "metadata": {},
     "output_type": "execute_result"
    }
   ],
   "source": [
    "cars_set.tail()"
   ]
  },
  {
   "cell_type": "code",
   "execution_count": 16,
   "metadata": {},
   "outputs": [
    {
     "data": {
      "text/html": [
       "<div>\n",
       "<style scoped>\n",
       "    .dataframe tbody tr th:only-of-type {\n",
       "        vertical-align: middle;\n",
       "    }\n",
       "\n",
       "    .dataframe tbody tr th {\n",
       "        vertical-align: top;\n",
       "    }\n",
       "\n",
       "    .dataframe thead th {\n",
       "        text-align: right;\n",
       "    }\n",
       "</style>\n",
       "<table border=\"1\" class=\"dataframe\">\n",
       "  <thead>\n",
       "    <tr style=\"text-align: right;\">\n",
       "      <th></th>\n",
       "      <th>Brand</th>\n",
       "      <th>Condition</th>\n",
       "      <th>Fuel</th>\n",
       "      <th>KMs Driven</th>\n",
       "      <th>Model</th>\n",
       "      <th>Price</th>\n",
       "      <th>Registered City</th>\n",
       "      <th>Transaction Type</th>\n",
       "      <th>Year</th>\n",
       "    </tr>\n",
       "  </thead>\n",
       "  <tbody>\n",
       "    <tr>\n",
       "      <th>0</th>\n",
       "      <td>Toyota</td>\n",
       "      <td>Used</td>\n",
       "      <td>Diesel</td>\n",
       "      <td>1.0</td>\n",
       "      <td>Prado</td>\n",
       "      <td>2100000</td>\n",
       "      <td>Karachi</td>\n",
       "      <td>Cash</td>\n",
       "      <td>1997.0</td>\n",
       "    </tr>\n",
       "    <tr>\n",
       "      <th>4</th>\n",
       "      <td>Toyota</td>\n",
       "      <td>Used</td>\n",
       "      <td>Petrol</td>\n",
       "      <td>100000.0</td>\n",
       "      <td>Corolla XLI</td>\n",
       "      <td>1430000</td>\n",
       "      <td>Karachi</td>\n",
       "      <td>Cash</td>\n",
       "      <td>2013.0</td>\n",
       "    </tr>\n",
       "    <tr>\n",
       "      <th>5</th>\n",
       "      <td>Toyota</td>\n",
       "      <td>Used</td>\n",
       "      <td>Petrol</td>\n",
       "      <td>80000.0</td>\n",
       "      <td>Corrolla Altis</td>\n",
       "      <td>1620000</td>\n",
       "      <td>Karachi</td>\n",
       "      <td>Cash</td>\n",
       "      <td>2012.0</td>\n",
       "    </tr>\n",
       "    <tr>\n",
       "      <th>7</th>\n",
       "      <td>Toyota</td>\n",
       "      <td>New</td>\n",
       "      <td>Petrol</td>\n",
       "      <td>10241.0</td>\n",
       "      <td>Corrolla Altis</td>\n",
       "      <td>2900000</td>\n",
       "      <td>Karachi</td>\n",
       "      <td>Cash</td>\n",
       "      <td>2017.0</td>\n",
       "    </tr>\n",
       "    <tr>\n",
       "      <th>12</th>\n",
       "      <td>Toyota</td>\n",
       "      <td>Used</td>\n",
       "      <td>Petrol</td>\n",
       "      <td>78000.0</td>\n",
       "      <td>Passo</td>\n",
       "      <td>770000</td>\n",
       "      <td>Karachi</td>\n",
       "      <td>Cash</td>\n",
       "      <td>2006.0</td>\n",
       "    </tr>\n",
       "    <tr>\n",
       "      <th>...</th>\n",
       "      <td>...</td>\n",
       "      <td>...</td>\n",
       "      <td>...</td>\n",
       "      <td>...</td>\n",
       "      <td>...</td>\n",
       "      <td>...</td>\n",
       "      <td>...</td>\n",
       "      <td>...</td>\n",
       "      <td>...</td>\n",
       "    </tr>\n",
       "    <tr>\n",
       "      <th>24963</th>\n",
       "      <td>Toyota</td>\n",
       "      <td>Used</td>\n",
       "      <td>Petrol</td>\n",
       "      <td>56686.0</td>\n",
       "      <td>Fj Cruiser</td>\n",
       "      <td>165000</td>\n",
       "      <td>NaN</td>\n",
       "      <td>Cash</td>\n",
       "      <td>1971.0</td>\n",
       "    </tr>\n",
       "    <tr>\n",
       "      <th>24965</th>\n",
       "      <td>Toyota</td>\n",
       "      <td>Used</td>\n",
       "      <td>CNG</td>\n",
       "      <td>100000.0</td>\n",
       "      <td>Corolla XE</td>\n",
       "      <td>520000</td>\n",
       "      <td>Karachi</td>\n",
       "      <td>Cash</td>\n",
       "      <td>1994.0</td>\n",
       "    </tr>\n",
       "    <tr>\n",
       "      <th>24966</th>\n",
       "      <td>Toyota</td>\n",
       "      <td>Used</td>\n",
       "      <td>Petrol</td>\n",
       "      <td>76190.0</td>\n",
       "      <td>Avanza</td>\n",
       "      <td>1175000</td>\n",
       "      <td>Lahore</td>\n",
       "      <td>Cash</td>\n",
       "      <td>2011.0</td>\n",
       "    </tr>\n",
       "    <tr>\n",
       "      <th>24968</th>\n",
       "      <td>Toyota</td>\n",
       "      <td>Used</td>\n",
       "      <td>CNG</td>\n",
       "      <td>200000.0</td>\n",
       "      <td>Corolla XE</td>\n",
       "      <td>1070000</td>\n",
       "      <td>Lahore</td>\n",
       "      <td>Cash</td>\n",
       "      <td>2001.0</td>\n",
       "    </tr>\n",
       "    <tr>\n",
       "      <th>24972</th>\n",
       "      <td>Toyota</td>\n",
       "      <td>Used</td>\n",
       "      <td>Petrol</td>\n",
       "      <td>48500.0</td>\n",
       "      <td>Corolla GLI</td>\n",
       "      <td>2050000</td>\n",
       "      <td>Lahore</td>\n",
       "      <td>Cash</td>\n",
       "      <td>2017.0</td>\n",
       "    </tr>\n",
       "  </tbody>\n",
       "</table>\n",
       "<p>4981 rows × 9 columns</p>\n",
       "</div>"
      ],
      "text/plain": [
       "        Brand Condition    Fuel  KMs Driven           Model    Price  \\\n",
       "0      Toyota      Used  Diesel         1.0           Prado  2100000   \n",
       "4      Toyota      Used  Petrol    100000.0     Corolla XLI  1430000   \n",
       "5      Toyota      Used  Petrol     80000.0  Corrolla Altis  1620000   \n",
       "7      Toyota       New  Petrol     10241.0  Corrolla Altis  2900000   \n",
       "12     Toyota      Used  Petrol     78000.0           Passo   770000   \n",
       "...       ...       ...     ...         ...             ...      ...   \n",
       "24963  Toyota      Used  Petrol     56686.0      Fj Cruiser   165000   \n",
       "24965  Toyota      Used     CNG    100000.0      Corolla XE   520000   \n",
       "24966  Toyota      Used  Petrol     76190.0          Avanza  1175000   \n",
       "24968  Toyota      Used     CNG    200000.0      Corolla XE  1070000   \n",
       "24972  Toyota      Used  Petrol     48500.0     Corolla GLI  2050000   \n",
       "\n",
       "      Registered City Transaction Type    Year  \n",
       "0             Karachi             Cash  1997.0  \n",
       "4             Karachi             Cash  2013.0  \n",
       "5             Karachi             Cash  2012.0  \n",
       "7             Karachi             Cash  2017.0  \n",
       "12            Karachi             Cash  2006.0  \n",
       "...               ...              ...     ...  \n",
       "24963             NaN             Cash  1971.0  \n",
       "24965         Karachi             Cash  1994.0  \n",
       "24966          Lahore             Cash  2011.0  \n",
       "24968          Lahore             Cash  2001.0  \n",
       "24972          Lahore             Cash  2017.0  \n",
       "\n",
       "[4981 rows x 9 columns]"
      ]
     },
     "execution_count": 16,
     "metadata": {},
     "output_type": "execute_result"
    }
   ],
   "source": [
    "# filter data fram\n",
    "cars_set[cars_set[\"Brand\"] == \"Toyota\"]"
   ]
  },
  {
   "cell_type": "markdown",
   "metadata": {},
   "source": [
    "## CrossTab"
   ]
  },
  {
   "cell_type": "code",
   "execution_count": 18,
   "metadata": {},
   "outputs": [
    {
     "data": {
      "text/html": [
       "<div>\n",
       "<style scoped>\n",
       "    .dataframe tbody tr th:only-of-type {\n",
       "        vertical-align: middle;\n",
       "    }\n",
       "\n",
       "    .dataframe tbody tr th {\n",
       "        vertical-align: top;\n",
       "    }\n",
       "\n",
       "    .dataframe thead th {\n",
       "        text-align: right;\n",
       "    }\n",
       "</style>\n",
       "<table border=\"1\" class=\"dataframe\">\n",
       "  <thead>\n",
       "    <tr style=\"text-align: right;\">\n",
       "      <th>Year</th>\n",
       "      <th>1915.0</th>\n",
       "      <th>1925.0</th>\n",
       "      <th>1943.0</th>\n",
       "      <th>1951.0</th>\n",
       "      <th>1952.0</th>\n",
       "      <th>1956.0</th>\n",
       "      <th>1960.0</th>\n",
       "      <th>1962.0</th>\n",
       "      <th>1963.0</th>\n",
       "      <th>1964.0</th>\n",
       "      <th>...</th>\n",
       "      <th>2011.0</th>\n",
       "      <th>2012.0</th>\n",
       "      <th>2013.0</th>\n",
       "      <th>2014.0</th>\n",
       "      <th>2015.0</th>\n",
       "      <th>2016.0</th>\n",
       "      <th>2017.0</th>\n",
       "      <th>2018.0</th>\n",
       "      <th>2019.0</th>\n",
       "      <th>2020.0</th>\n",
       "    </tr>\n",
       "    <tr>\n",
       "      <th>Fuel</th>\n",
       "      <th></th>\n",
       "      <th></th>\n",
       "      <th></th>\n",
       "      <th></th>\n",
       "      <th></th>\n",
       "      <th></th>\n",
       "      <th></th>\n",
       "      <th></th>\n",
       "      <th></th>\n",
       "      <th></th>\n",
       "      <th></th>\n",
       "      <th></th>\n",
       "      <th></th>\n",
       "      <th></th>\n",
       "      <th></th>\n",
       "      <th></th>\n",
       "      <th></th>\n",
       "      <th></th>\n",
       "      <th></th>\n",
       "      <th></th>\n",
       "      <th></th>\n",
       "    </tr>\n",
       "  </thead>\n",
       "  <tbody>\n",
       "    <tr>\n",
       "      <th>CNG</th>\n",
       "      <td>0</td>\n",
       "      <td>0</td>\n",
       "      <td>0</td>\n",
       "      <td>0</td>\n",
       "      <td>0</td>\n",
       "      <td>0</td>\n",
       "      <td>0</td>\n",
       "      <td>0</td>\n",
       "      <td>0</td>\n",
       "      <td>0</td>\n",
       "      <td>...</td>\n",
       "      <td>225</td>\n",
       "      <td>163</td>\n",
       "      <td>72</td>\n",
       "      <td>47</td>\n",
       "      <td>24</td>\n",
       "      <td>20</td>\n",
       "      <td>17</td>\n",
       "      <td>36</td>\n",
       "      <td>0</td>\n",
       "      <td>0</td>\n",
       "    </tr>\n",
       "    <tr>\n",
       "      <th>Diesel</th>\n",
       "      <td>0</td>\n",
       "      <td>0</td>\n",
       "      <td>0</td>\n",
       "      <td>2</td>\n",
       "      <td>4</td>\n",
       "      <td>0</td>\n",
       "      <td>0</td>\n",
       "      <td>2</td>\n",
       "      <td>0</td>\n",
       "      <td>1</td>\n",
       "      <td>...</td>\n",
       "      <td>6</td>\n",
       "      <td>18</td>\n",
       "      <td>13</td>\n",
       "      <td>5</td>\n",
       "      <td>13</td>\n",
       "      <td>3</td>\n",
       "      <td>26</td>\n",
       "      <td>35</td>\n",
       "      <td>0</td>\n",
       "      <td>0</td>\n",
       "    </tr>\n",
       "    <tr>\n",
       "      <th>Hybrid</th>\n",
       "      <td>0</td>\n",
       "      <td>0</td>\n",
       "      <td>0</td>\n",
       "      <td>0</td>\n",
       "      <td>0</td>\n",
       "      <td>0</td>\n",
       "      <td>0</td>\n",
       "      <td>0</td>\n",
       "      <td>0</td>\n",
       "      <td>0</td>\n",
       "      <td>...</td>\n",
       "      <td>47</td>\n",
       "      <td>52</td>\n",
       "      <td>55</td>\n",
       "      <td>114</td>\n",
       "      <td>214</td>\n",
       "      <td>51</td>\n",
       "      <td>21</td>\n",
       "      <td>28</td>\n",
       "      <td>0</td>\n",
       "      <td>0</td>\n",
       "    </tr>\n",
       "    <tr>\n",
       "      <th>LPG</th>\n",
       "      <td>0</td>\n",
       "      <td>1</td>\n",
       "      <td>0</td>\n",
       "      <td>0</td>\n",
       "      <td>0</td>\n",
       "      <td>0</td>\n",
       "      <td>0</td>\n",
       "      <td>0</td>\n",
       "      <td>0</td>\n",
       "      <td>0</td>\n",
       "      <td>...</td>\n",
       "      <td>0</td>\n",
       "      <td>0</td>\n",
       "      <td>0</td>\n",
       "      <td>0</td>\n",
       "      <td>0</td>\n",
       "      <td>0</td>\n",
       "      <td>0</td>\n",
       "      <td>1</td>\n",
       "      <td>0</td>\n",
       "      <td>0</td>\n",
       "    </tr>\n",
       "    <tr>\n",
       "      <th>Petrol</th>\n",
       "      <td>1</td>\n",
       "      <td>0</td>\n",
       "      <td>2</td>\n",
       "      <td>0</td>\n",
       "      <td>0</td>\n",
       "      <td>1</td>\n",
       "      <td>1</td>\n",
       "      <td>0</td>\n",
       "      <td>2</td>\n",
       "      <td>1</td>\n",
       "      <td>...</td>\n",
       "      <td>746</td>\n",
       "      <td>864</td>\n",
       "      <td>1022</td>\n",
       "      <td>1124</td>\n",
       "      <td>1193</td>\n",
       "      <td>685</td>\n",
       "      <td>752</td>\n",
       "      <td>951</td>\n",
       "      <td>1</td>\n",
       "      <td>2</td>\n",
       "    </tr>\n",
       "  </tbody>\n",
       "</table>\n",
       "<p>5 rows × 65 columns</p>\n",
       "</div>"
      ],
      "text/plain": [
       "Year    1915.0  1925.0  1943.0  1951.0  1952.0  1956.0  1960.0  1962.0  \\\n",
       "Fuel                                                                     \n",
       "CNG          0       0       0       0       0       0       0       0   \n",
       "Diesel       0       0       0       2       4       0       0       2   \n",
       "Hybrid       0       0       0       0       0       0       0       0   \n",
       "LPG          0       1       0       0       0       0       0       0   \n",
       "Petrol       1       0       2       0       0       1       1       0   \n",
       "\n",
       "Year    1963.0  1964.0  ...  2011.0  2012.0  2013.0  2014.0  2015.0  2016.0  \\\n",
       "Fuel                    ...                                                   \n",
       "CNG          0       0  ...     225     163      72      47      24      20   \n",
       "Diesel       0       1  ...       6      18      13       5      13       3   \n",
       "Hybrid       0       0  ...      47      52      55     114     214      51   \n",
       "LPG          0       0  ...       0       0       0       0       0       0   \n",
       "Petrol       2       1  ...     746     864    1022    1124    1193     685   \n",
       "\n",
       "Year    2017.0  2018.0  2019.0  2020.0  \n",
       "Fuel                                    \n",
       "CNG         17      36       0       0  \n",
       "Diesel      26      35       0       0  \n",
       "Hybrid      21      28       0       0  \n",
       "LPG          0       1       0       0  \n",
       "Petrol     752     951       1       2  \n",
       "\n",
       "[5 rows x 65 columns]"
      ]
     },
     "execution_count": 18,
     "metadata": {},
     "output_type": "execute_result"
    }
   ],
   "source": [
    "pd.crosstab(cars_set[\"Fuel\"], cars_set[\"Year\"])"
   ]
  },
  {
   "cell_type": "markdown",
   "metadata": {},
   "source": [
    "## Visualize"
   ]
  },
  {
   "cell_type": "code",
   "execution_count": 19,
   "metadata": {},
   "outputs": [
    {
     "data": {
      "text/plain": [
       "<matplotlib.axes._subplots.AxesSubplot at 0x7fe4e0735ed0>"
      ]
     },
     "execution_count": 19,
     "metadata": {},
     "output_type": "execute_result"
    },
    {
     "data": {
      "image/png": "[encoded data removed]",
      "text/plain": [
       "<Figure size 432x288 with 1 Axes>"
      ]
     },
     "metadata": {
      "needs_background": "light"
     },
     "output_type": "display_data"
    }
   ],
   "source": [
    "cars_set[\"Price\"].plot()"
   ]
  },
  {
   "cell_type": "code",
   "execution_count": 21,
   "metadata": {},
   "outputs": [
    {
     "data": {
      "text/plain": [
       "<matplotlib.axes._subplots.AxesSubplot at 0x7fe4db5c5150>"
      ]
     },
     "execution_count": 21,
     "metadata": {},
     "output_type": "execute_result"
    },
    {
     "data": {
      "image/png": "[encoded data removed]",
      "text/plain": [
       "<Figure size 432x288 with 1 Axes>"
      ]
     },
     "metadata": {
      "needs_background": "light"
     },
     "output_type": "display_data"
    }
   ],
   "source": [
    "cars_set[\"Year\"].hist()"
   ]
  },
  {
   "cell_type": "markdown",
   "metadata": {},
   "source": [
    "## Manipulating Data"
   ]
  },
  {
   "cell_type": "code",
   "execution_count": 22,
   "metadata": {},
   "outputs": [
    {
     "data": {
      "text/plain": [
       "0              toyota\n",
       "1              suzuki\n",
       "2              suzuki\n",
       "3              suzuki\n",
       "4              toyota\n",
       "             ...     \n",
       "24968          toyota\n",
       "24969        daihatsu\n",
       "24970    other brands\n",
       "24971          suzuki\n",
       "24972          toyota\n",
       "Name: Brand, Length: 24973, dtype: object"
      ]
     },
     "execution_count": 22,
     "metadata": {},
     "output_type": "execute_result"
    }
   ],
   "source": [
    "cars_set[\"Brand\"].str.lower()"
   ]
  },
  {
   "cell_type": "code",
   "execution_count": 23,
   "metadata": {},
   "outputs": [],
   "source": [
    "cars_set[\"Brand\"] = cars_set[\"Brand\"].str.lower()"
   ]
  },
  {
   "cell_type": "code",
   "execution_count": 25,
   "metadata": {},
   "outputs": [
    {
     "data": {
      "text/plain": [
       "0    toyota\n",
       "1    suzuki\n",
       "2    suzuki\n",
       "3    suzuki\n",
       "4    toyota\n",
       "Name: Brand, dtype: object"
      ]
     },
     "execution_count": 25,
     "metadata": {},
     "output_type": "execute_result"
    }
   ],
   "source": [
    "cars_set[\"Brand\"].head()"
   ]
  },
  {
   "cell_type": "code",
   "execution_count": null,
   "metadata": {},
   "outputs": [],
   "source": []
  }
 ],
 "metadata": {
  "kernelspec": {
   "display_name": "Python 3",
   "language": "python",
   "name": "python3"
  },
  "language_info": {
   "codemirror_mode": {
    "name": "ipython",
    "version": 3
   },
   "file_extension": ".py",
   "mimetype": "text/x-python",
   "name": "python",
   "nbconvert_exporter": "python",
   "pygments_lexer": "ipython3",
   "version": "3.7.6"
  }
 },
 "nbformat": 4,
 "nbformat_minor": 4
}
